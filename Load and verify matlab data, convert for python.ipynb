{
 "cells": [
  {
   "cell_type": "code",
   "execution_count": 1,
   "id": "16f6e1cf-c95f-4580-90ef-13e915c40a85",
   "metadata": {},
   "outputs": [],
   "source": [
    "import scipy.io as sio\n",
    "import numpy as np\n",
    "import pickle\n",
    "from rdkit import Chem\n",
    "from matplotlib import pyplot as plt\n",
    "%matplotlib inline"
   ]
  },
  {
   "cell_type": "code",
   "execution_count": 2,
   "id": "5cd52754-1225-4bab-ac35-58a91d0908d4",
   "metadata": {},
   "outputs": [],
   "source": [
    "struct = sio.loadmat('odormappingdata_simple_05_2022.mat')"
   ]
  },
  {
   "cell_type": "code",
   "execution_count": 3,
   "id": "46c76f11-5ffb-4e54-b691-f93e9d696c6a",
   "metadata": {},
   "outputs": [
    {
     "name": "stdout",
     "output_type": "stream",
     "text": [
      "allconcs_prep\n",
      "allrespmats\n",
      "odornameslist\n",
      "respmatrix_omp111L_dF\n",
      "respmatrix_omp111R_dF\n",
      "respmatrix_omp112L_dF\n",
      "respmatrix_omp112R_dF\n",
      "respmatrix_omp113L_dF\n",
      "respmatrix_omp113R_dF\n",
      "respmatrix_omp114L_dF\n",
      "respmatrix_omp114R_dF\n"
     ]
    }
   ],
   "source": [
    "for k in struct.keys():\n",
    "    if not k.startswith(\"_\"):\n",
    "        print(k)"
   ]
  },
  {
   "cell_type": "markdown",
   "id": "7a8f0041-4970-457e-8830-e3b2dde703c6",
   "metadata": {},
   "source": [
    "## load concentrations\n",
    "from the description:\n",
    "\n",
    " 'allconcs_prep': Calculated final delivered concentration of each odorant, indexed in the same order as response matrices and odornames list, for each mouse, in mols/L. Note that concentrations estimated from vapor pressure, calibrated air dilution, and liquid dilution, assuming ideal behavior. "
   ]
  },
  {
   "cell_type": "code",
   "execution_count": 4,
   "id": "ae02c0c0-d477-4bae-a4ec-e08223d77ad6",
   "metadata": {},
   "outputs": [],
   "source": [
    "allconcs_prep = struct['allconcs_prep']"
   ]
  },
  {
   "cell_type": "code",
   "execution_count": 5,
   "id": "f00429d7-e59c-48da-858b-8dabe496ce99",
   "metadata": {},
   "outputs": [
    {
     "data": {
      "text/plain": [
       "(185, 4)"
      ]
     },
     "execution_count": 5,
     "metadata": {},
     "output_type": "execute_result"
    }
   ],
   "source": [
    "allconcs_prep.shape"
   ]
  },
  {
   "cell_type": "markdown",
   "id": "28293e8a-534b-43c3-b773-48bba36e6afe",
   "metadata": {},
   "source": [
    "## load response matrices\n",
    "From the description: \n",
    "\n",
    "'allrespmatrices_dF': Structure array consists of odorant response matrices and ROI positions for each OB. \n",
    "Variables are indexed in the following order: \n",
    " 1. omp111L, \n",
    " 2. omp111R, \n",
    " 3. omp112L, \n",
    " 4. omp112R, \n",
    " 5. omp113L, \n",
    " 6. omp113R, \n",
    " 7. omp114L, \n",
    " 8. omp114R. \n",
    " \n",
    "All odorants are in the same order for all response matrices (see ‘odornameslist’ variable). \n",
    "\n",
    "ROI positions indicate centroid of each ROI, after visual registration by aligning the midline and caudal sinus. Units are microns, reference (zero) is midline (for ‘Xpos’) and caudal sinus (for ‘Ypos’). Note that the Xposition for ROIs from the left OB is negative relative to midline.\n",
    "\n",
    "\n",
    "the fields in each of the struct elements are:\n",
    "1. respmat\n",
    "2. lsparseness\n",
    "3. numeffodorsperglom\n",
    "4. roidynrange\n",
    "5. normrespmat\n",
    "6. dim\n",
    "7. xnormrespmat\n",
    "8. maxgloms\n",
    "9. psparseness\n",
    "10. numrespglomsperodor\n",
    "11. rho_corrx\n",
    "12. ROIPos\n",
    "13. ROImaxresp\n",
    "\n",
    "Note that `ROIPos` are stored as a matlab table which `scipy.io.loadmat` cannot load. Therefore, these are provided in separate files here, see below. \n"
   ]
  },
  {
   "cell_type": "code",
   "execution_count": 6,
   "id": "0bdedf62",
   "metadata": {},
   "outputs": [],
   "source": [
    "allrespmats = struct['allrespmats']"
   ]
  },
  {
   "cell_type": "code",
   "execution_count": 7,
   "id": "4fd35856",
   "metadata": {},
   "outputs": [
    {
     "data": {
      "text/plain": [
       "1004"
      ]
     },
     "execution_count": 7,
     "metadata": {},
     "output_type": "execute_result"
    }
   ],
   "source": [
    "allresprows = sum([allrespmats[0,i][0].shape[0] for i in range(allrespmats.shape[1])])\n",
    "allresprows"
   ]
  },
  {
   "cell_type": "code",
   "execution_count": 8,
   "id": "0887051d",
   "metadata": {},
   "outputs": [],
   "source": [
    "ranges = np.zeros((allrespmats.shape[1],2),dtype=int)\n",
    "allresp = np.zeros((allresprows,187))\n",
    "allrespnorm = np.zeros_like(allresp)"
   ]
  },
  {
   "cell_type": "code",
   "execution_count": 9,
   "id": "6fd97631",
   "metadata": {},
   "outputs": [],
   "source": [
    "y = 0\n",
    "for i in range(allrespmats.shape[1]):\n",
    "    assert allrespmats[0,i][0].shape == allrespmats[0,i][4].shape\n",
    "    ysize = allrespmats[0,i][0].shape[0]\n",
    "    allresp[y:y+ysize,:] = allrespmats[0,i][0]\n",
    "    allrespnorm[y:y+ysize,:] = allrespmats[0,i][4]\n",
    "    ranges[i,:] = [y,y+ysize]\n",
    "    y += ysize"
   ]
  },
  {
   "cell_type": "markdown",
   "id": "2b05b797",
   "metadata": {},
   "source": [
    "Finally, we should add a list of names of mice so we can tell them apart later. "
   ]
  },
  {
   "cell_type": "code",
   "execution_count": 10,
   "id": "cf301831",
   "metadata": {},
   "outputs": [],
   "source": [
    "mousenames = [\n",
    "    \"omp111L\",\n",
    "    \"omp111R\",\n",
    "    \"omp112L\",\n",
    "    \"omp112R\",\n",
    "    \"omp113L\",\n",
    "    \"omp113R\",\n",
    "    \"omp114L\",\n",
    "    \"omp114R\"\n",
    "]"
   ]
  },
  {
   "cell_type": "markdown",
   "id": "5d560efb",
   "metadata": {},
   "source": [
    "### load ROIPos"
   ]
  },
  {
   "cell_type": "code",
   "execution_count": 11,
   "id": "ee1dc11b",
   "metadata": {},
   "outputs": [],
   "source": [
    "roiposmat = sio.loadmat('roipos.mat')\n",
    "roipos = np.zeros((allresprows,2))\n",
    "for i in range(8):\n",
    "    roipos_i = roiposmat['ROIPos{:d}'.format(i)]\n",
    "    roiposrows_i = roipos_i.shape[0]\n",
    "    allresprows_i = allrespmats[0,i][0].shape[0]\n",
    "    assert roiposrows_i == allresprows_i\n",
    "    roipos[ranges[i,0]:ranges[i,1],:] = roipos_i\n"
   ]
  },
  {
   "cell_type": "code",
   "execution_count": 12,
   "id": "065cd9bd",
   "metadata": {},
   "outputs": [
    {
     "data": {
      "text/plain": [
       "<matplotlib.collections.PathCollection at 0x1441e0d90>"
      ]
     },
     "execution_count": 12,
     "metadata": {},
     "output_type": "execute_result"
    },
    {
     "data": {
      "image/png": "[encoded data removed]",
      "text/plain": [
       "<Figure size 640x480 with 1 Axes>"
      ]
     },
     "metadata": {},
     "output_type": "display_data"
    }
   ],
   "source": [
    "plt.scatter(roipos[:,0],roipos[:,1])"
   ]
  },
  {
   "cell_type": "markdown",
   "id": "1e16f9c6",
   "metadata": {},
   "source": [
    "## odor names"
   ]
  },
  {
   "cell_type": "code",
   "execution_count": 13,
   "id": "3cf5e8c2",
   "metadata": {},
   "outputs": [],
   "source": [
    "odornameslist = [on[0][0] for on in struct['odornameslist']]"
   ]
  },
  {
   "cell_type": "code",
   "execution_count": 14,
   "id": "068f79c4",
   "metadata": {},
   "outputs": [
    {
     "data": {
      "text/plain": [
       "['C7 propionic acid',\n",
       " 'C1 butyric acid',\n",
       " 'C2 2-methylbutyric acid',\n",
       " 'C3 valeric acid',\n",
       " 'C6 isovaleric acid',\n",
       " 'C9 2-methyl-2-pentenoic acid',\n",
       " 'C5 hexanoic acid',\n",
       " 'C4 heptanoic acid',\n",
       " 'D15 methacrolein',\n",
       " 'D16 butyraldehyde',\n",
       " 'D13 isobutyraldehyde',\n",
       " 'D1 2-methylbutyraldehyde',\n",
       " 'D2 trans-2-methyl-2-butenal',\n",
       " 'D12 methional',\n",
       " 'D8 valeraldehyde',\n",
       " 'D7 isovaleraldehyde',\n",
       " 'D5 2-methylvaleraldehyde',\n",
       " 'D14 2-methyl-2-pentenal',\n",
       " 'D6 hexanal',\n",
       " 'D3 heptanal',\n",
       " 'D4 octanal',\n",
       " 'D9 trans-2-nonenal',\n",
       " 'D18 trans-2,cis-6-nonadienal',\n",
       " 'D10 trans-2-dodecenal',\n",
       " 'D17 2-hexyl-2-decenal',\n",
       " 'E1 butyl acetate',\n",
       " 'E7 S-methyl thiobutanoate',\n",
       " 'E11 isoamyl acetate',\n",
       " 'E8 hexyl acetate',\n",
       " 'E15 3-mercaptohexyl acetate',\n",
       " 'E2 ethyl butyrate',\n",
       " 'E9 methyl 2-methylbutyrate',\n",
       " 'E3 vinyl butyrate',\n",
       " 'E4 methyl valerate',\n",
       " 'E12 1-octen-3-yl butyrate',\n",
       " 'E14 methyl tiglate',\n",
       " 'E5 ethyl tiglate',\n",
       " 'E10 isopropyl tiglate',\n",
       " 'E6 hexyl tiglate',\n",
       " 'E13 isobornyl isovalerate',\n",
       " 'F1 furfuryl mercaptan',\n",
       " 'F2 2-pentylfuran',\n",
       " 'F4 difurfuryl disulfide',\n",
       " 'F5 5-ethyl-4-hydroxy-2-methyl-3(2H)-furanone',\n",
       " 'F6 5-methylfurfural',\n",
       " 'F7 furfuryl methyl sulfide',\n",
       " 'S19 2-methyl-3-tetrahydrofuranthiol',\n",
       " 'F8 1-furfurylpyrrole',\n",
       " 'K13 diacetyl',\n",
       " 'K5 2-butanone',\n",
       " 'K6 2-pentanone',\n",
       " 'K3 4-methyl-3-penten-2-one',\n",
       " 'K1 2-hexanone',\n",
       " 'K15 3-hepten-2-one',\n",
       " 'K17 5-methyl-2-hepten-4-one',\n",
       " 'K2 2-octanone',\n",
       " 'K11 3-octen-2-one',\n",
       " 'K14 2-nonanone',\n",
       " 'L2 1-hexanol',\n",
       " 'L8 cis-3-hexenol',\n",
       " 'L11 3-(methylthio)-1-hexanol',\n",
       " 'L4 geraniol',\n",
       " 'L5 champignol',\n",
       " 'K16 ethyl maltol',\n",
       " 'L3 (+-)-geosmin',\n",
       " 'N8 ethylenediamine',\n",
       " 'N6 butylamine',\n",
       " 'N11 2-methylbutylamine',\n",
       " 'N15 N-butyldimethylamine',\n",
       " 'N4 isopentylamine',\n",
       " 'N9 cadaverine',\n",
       " 'N7 octylamine',\n",
       " 'N13 N,N-dimethyloctylamine',\n",
       " 'N1 cyclohexylamine',\n",
       " 'N14 N,N-dimethylcyclohexylamine',\n",
       " 'N2 phenethylamine',\n",
       " 'R34 benzylamine',\n",
       " 'R33 tyramine',\n",
       " 'R35 N,N-dimethyl-2-phenethylamine',\n",
       " 'R39 3-phenylpropylamine',\n",
       " 'N3 N-methyl piperidine',\n",
       " 'P12 2-acetylpyridine',\n",
       " 'P13 4-tert-butylpyridine',\n",
       " 'P10 5,6,7,8-tetrahydroquinoxaline',\n",
       " 'P15 5-methylquinoxaline',\n",
       " 'R19 indole',\n",
       " 'R25 3-methylindole',\n",
       " 'M1 5-methyl heptan-3-one oxime',\n",
       " 'O1 gamma-undecalactone',\n",
       " 'P26 pyrazine',\n",
       " 'P14 2-acetylpyrazine',\n",
       " 'P25 2-methylpyrazine',\n",
       " 'P23 2-methoxypyrazine',\n",
       " 'P27 2-ethylpyrazine',\n",
       " 'P1 2,3-diethylpyrazine',\n",
       " 'P24 2-chloropyrazine',\n",
       " 'P2 2-methoxy-3-methylpyrazine',\n",
       " 'P4 2-ethyl-3-methylpyrazine',\n",
       " 'P16 2,3-dimethylpyrazine',\n",
       " 'P17 2,5-dimethylpyrazine',\n",
       " 'P8 2,6-dimethylpyrazine',\n",
       " 'P9 2,3,5-trimethylpyrazine',\n",
       " 'P11 2,3,5,6-tetramethylpyrazine',\n",
       " 'P29 2-ethyl-5-methylpyrazine',\n",
       " 'P28 2-ethyl-3-methoxypyrazine',\n",
       " 'P3 2-methoxy-3(5 or 6)-isopropylpyrazine',\n",
       " 'P5 2-isobutyl-3-methoxypyrazine',\n",
       " 'P6 2-methoxy-3-(1-methylpropyl)pyrazine',\n",
       " 'P7 2-isopropyl-3-methoxypyrazine',\n",
       " 'P19 2-acetyl-3,(5 or 6)-dimethylpyrazine',\n",
       " 'P20 2-isobutyl-3-methylpyrazine',\n",
       " 'P21 2-acetyl-3-ethylpyrazine',\n",
       " 'P22 2-acetyl-3-methylpyrazine',\n",
       " 'S18 pyrazineethanethiol',\n",
       " 'P18 5H-5-methyl-6,7-dihydrocyclopenta[b]pyrazine',\n",
       " 'R1 benzaldehyde',\n",
       " 'D11 trans-cinnamaldehyde',\n",
       " 'R2 cuminaldehyde',\n",
       " 'R27 p-anisaldehyde',\n",
       " 'R8 vanillin',\n",
       " 'R41 piperonal',\n",
       " 'R11 acetophenone',\n",
       " 'R12 2-hydroxyacetophenone',\n",
       " 'R13 2,4-dimethylacetophenone',\n",
       " 'R14 4-aminoacetophenone',\n",
       " 'R15 4-methylacetophenone',\n",
       " 'R21 4-methoxyacetophenone',\n",
       " 'R30 2-methylacetophenone',\n",
       " 'R31 propiophenone',\n",
       " 'R32 butyrophenone',\n",
       " 'R17 4-phenyl-2-butanone',\n",
       " 'K12 4-(4-hydroxyphenyl)-2-butanone',\n",
       " 'R3 methyl salicylate',\n",
       " 'R4 methyl benzoate',\n",
       " 'R26 benzyl acetate',\n",
       " 'R28 ethyl benzoate',\n",
       " 'R20 benzyl benzoate',\n",
       " 'R29 methyl anthranilate',\n",
       " 'R5 dimethyl anthranilate',\n",
       " 'R37 phenylacetate',\n",
       " 'R22 ethyl phenylacetate',\n",
       " 'R16 allyl phenylacetate',\n",
       " 'R40 phenyl propionate',\n",
       " 'R9 4-methylanisole',\n",
       " 'R10 m-cresol',\n",
       " 'R23 guaiacol',\n",
       " 'R24 2,6-dimethoxyphenol',\n",
       " 'R6 eugenol',\n",
       " 'L10 isoeugenol',\n",
       " 'R36 methyl eugenol',\n",
       " 'R38 methyl isoeugenol',\n",
       " 'R7 eugenyl acetate',\n",
       " 'R44 elemicin',\n",
       " 'R43 carvacrol',\n",
       " 'R42 coumarin',\n",
       " 'S1 2-isobutylthiazole',\n",
       " 'S2 2-acetylthiazole',\n",
       " 'S3 2-isopropyl-4-methylthiazole',\n",
       " 'S5 2-methyl-2-thiazoline',\n",
       " 'S7 2,4,5-trimethylthiazole',\n",
       " 'S13 ethyl-2,5-dihydro-4-methylthiazole',\n",
       " 'S17 4-methylthiazole',\n",
       " 'S16 dimethyl trisulfide',\n",
       " 'S11 allyl disulfide',\n",
       " 'S14 4-methoxy-2-methyl-2-butanethiol',\n",
       " 'S15 2-methyl-4-propyl-1,3-oxathiane',\n",
       " 'T5 fenchol',\n",
       " 'L7 terrasol',\n",
       " 'T3 alpha-pinene',\n",
       " 'T4 1,8-cineole',\n",
       " 'X1 (R)-(+)-limonene',\n",
       " 'K10 L-carvone',\n",
       " 'K7 beta-ionone',\n",
       " 'K8 beta-damascone',\n",
       " 'K9 damascenone',\n",
       " 'L1 (+-)-menthol',\n",
       " 'K4 menthone',\n",
       " 'K18 (R)-(+)-pulegone',\n",
       " 'F9 (+)-menthofuran',\n",
       " 'K19 (+)-isomenthone',\n",
       " 'L9 (+)-neomenthol',\n",
       " 'T2 nootkatone',\n",
       " 'F3 (-)-ambroxide',\n",
       " 'Y2 myrcene',\n",
       " 'Y1 1,3,5-undecatriene',\n",
       " 'Z4 empty',\n",
       " 'Z3 triglyceride']"
      ]
     },
     "execution_count": 14,
     "metadata": {},
     "output_type": "execute_result"
    }
   ],
   "source": [
    "odornameslist"
   ]
  },
  {
   "cell_type": "markdown",
   "id": "b5b3121a",
   "metadata": {},
   "source": [
    "## save for convenience"
   ]
  },
  {
   "cell_type": "code",
   "execution_count": 15,
   "id": "2945f7ef",
   "metadata": {},
   "outputs": [],
   "source": [
    "datadict = {\n",
    "    'allresp': allresp,\n",
    "    'allrespnorm': allrespnorm,\n",
    "    'roipos': roipos, \n",
    "    'ranges': ranges,\n",
    "    'mousenames': mousenames,\n",
    "    'odornameslist': 'odornameslist'\n",
    "}\n",
    "with open('elife22data_python.pkl','wb') as f:\n",
    "    pickle.dump(datadict, f)"
   ]
  }
 ],
 "metadata": {
  "kernelspec": {
   "display_name": "Python 3 (ipykernel)",
   "language": "python",
   "name": "python3"
  },
  "language_info": {
   "codemirror_mode": {
    "name": "ipython",
    "version": 3
   },
   "file_extension": ".py",
   "mimetype": "text/x-python",
   "name": "python",
   "nbconvert_exporter": "python",
   "pygments_lexer": "ipython3",
   "version": "3.9.13"
  }
 },
 "nbformat": 4,
 "nbformat_minor": 5
}
